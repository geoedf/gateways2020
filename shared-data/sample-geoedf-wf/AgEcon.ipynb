{
 "cells": [
  {
   "cell_type": "markdown",
   "metadata": {},
   "source": [
    "# Sample GeoEDF Workflow for Agricultural Economics\n",
    "\n",
    "This notebook demonstrates a simple workflow from Agricultural Economics that uses data from the U.N. FAOSTAT database to create header array format (HAR) files for use with the GEMPACK software and the SIMPLE model."
   ]
  },
  {
   "cell_type": "code",
   "execution_count": 1,
   "metadata": {},
   "outputs": [
    {
     "name": "stderr",
     "output_type": "stream",
     "text": [
      "WARNING Database disabled. Install sqlalchemy for full functionality\n"
     ]
    }
   ],
   "source": [
    "from geoedfengine.GeoEDFWorkflow import GeoEDFWorkflow"
   ]
  },
  {
   "cell_type": "code",
   "execution_count": 2,
   "metadata": {},
   "outputs": [
    {
     "name": "stdout",
     "output_type": "stream",
     "text": [
      "COLLECTION connectors\n",
      "1  connectors/datetimefilter:latest\thttps://www.registry.geoedf.org/containers/1\n",
      "2  connectors/faoinput:latest\thttps://www.registry.geoedf.org/containers/15\n",
      "3  connectors/nasainput:latest\thttps://www.registry.geoedf.org/containers/4\n",
      "4  connectors/pathfilter:latest\thttps://www.registry.geoedf.org/containers/3\n",
      "5  connectors/wqpinput:latest\thttps://www.registry.geoedf.org/containers/13\n",
      "COLLECTION processors\n",
      "1  processors/csv2har:latest\thttps://www.registry.geoedf.org/containers/16\n",
      "2  processors/hdfeosshapefilemask:latest\thttps://www.registry.geoedf.org/containers/2\n",
      "3  processors/simpledataclean:latest\thttps://www.registry.geoedf.org/containers/14\n"
     ]
    }
   ],
   "source": [
    "workflow = GeoEDFWorkflow('/home/scitech/shared-data/sample-geoedf-wf/fao.yml')"
   ]
  },
  {
   "cell_type": "code",
   "execution_count": 3,
   "metadata": {},
   "outputs": [
    {
     "name": "stdout",
     "output_type": "stream",
     "text": [
      "On successful completion, outputs will be placed at: /home/scitech/shared-data/sample-geoedf-wf/1600794372/output\n"
     ]
    },
    {
     "name": "stderr",
     "output_type": "stream",
     "text": [
      "\n"
     ]
    },
    {
     "name": "stdout",
     "output_type": "stream",
     "text": [
      "[\u001b[1;32m##################################################\u001b[0m] 100.0% ..Success (\u001b[1;32mCompleted: 20\u001b[0m, \u001b[1;33mQueued: 0\u001b[0m, \u001b[1;36mRunning: 0\u001b[0m, \u001b[1;31mFailed: 0\u001b[0m)\n"
     ]
    }
   ],
   "source": [
    "workflow.execute()"
   ]
  },
  {
   "cell_type": "code",
   "execution_count": null,
   "metadata": {},
   "outputs": [],
   "source": []
  }
 ],
 "metadata": {
  "kernelspec": {
   "display_name": "Python 3",
   "language": "python",
   "name": "python3"
  },
  "language_info": {
   "codemirror_mode": {
    "name": "ipython",
    "version": 3
   },
   "file_extension": ".py",
   "mimetype": "text/x-python",
   "name": "python",
   "nbconvert_exporter": "python",
   "pygments_lexer": "ipython3",
   "version": "3.6.8"
  }
 },
 "nbformat": 4,
 "nbformat_minor": 4
}
