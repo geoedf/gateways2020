{
 "cells": [
  {
   "cell_type": "markdown",
   "metadata": {},
   "source": [
    "# Sample GeoEDF Hydrology Workflow\n",
    "\n",
    "This notebook demonstrates a GeoEDF hydrologic workflow that acquires data (in HDF format) from a NASA Distributed Active Archive Center (DAAC) and aggregates the data across a provided watershed region. This is often the first step before running a hydrologic model. This workflow uses a pre-existing data connector (**NASAInput**) and processor (**HDFEOSShapefileMask**). \n",
    "\n",
    "Later we demonstrate how a new connector or processor can be built and tested in combination with this workflow before contributing it to the official repositories."
   ]
  },
  {
   "cell_type": "markdown",
   "metadata": {},
   "source": [
    "## Step 1: Run a workflow consisting of pre-existing GeoEDF plugins\n",
    "\n",
    "Take a look at the file ``/home/scitech/shared-data/sample-geoedf-wf/mcd15.yml``. This workflow will be processed and executed using GeoEDF."
   ]
  },
  {
   "cell_type": "code",
   "execution_count": null,
   "metadata": {},
   "outputs": [],
   "source": [
    "from geoedfengine.GeoEDFWorkflow import GeoEDFWorkflow"
   ]
  },
  {
   "cell_type": "code",
   "execution_count": null,
   "metadata": {},
   "outputs": [],
   "source": [
    "workflow = GeoEDFWorkflow('/home/scitech/shared-data/sample-geoedf-wf/mcd15-simple.yml')"
   ]
  },
  {
   "cell_type": "code",
   "execution_count": null,
   "metadata": {},
   "outputs": [],
   "source": [
    "workflow.execute()"
   ]
  },
  {
   "cell_type": "markdown",
   "metadata": {},
   "source": [
    "## Extending this workflow\n",
    "\n",
    "While the workflow produced a shapefile at the end, we were not able to verify or visualize the result. \n",
    "There are Python mapping libraries (e.g. *Folium* or *ipyLeaflet*) that work with geospatial files, but require vector \n",
    "data to be in the GeoJSON format.\n",
    "\n",
    "We will develop a new processor for converting a shapefile into a GeoJSON file and add it to the end of this workflow."
   ]
  },
  {
   "cell_type": "markdown",
   "metadata": {},
   "source": [
    "## Step 2: Build Singularity container for a new processor\n",
    "\n",
    "A new processor is being developed with the name ``Shapefile2GeoJSON``. You can build a local Singularity image for this new plugin by following these steps:\n",
    "1. Create the Singularity recipe file using the ``hpccm`` utility.\n",
    "2. Build the Singularity container image (named appropriately) using the recipe file.\n",
    "3. Copy the container image to the standard ``/images`` path where GeoEDF will find it.\n",
    "\n",
    "These commands have been helpfully added to a script at ``/home/scitech/shared-data/build-local-image.sh``. "
   ]
  },
  {
   "cell_type": "code",
   "execution_count": null,
   "metadata": {},
   "outputs": [],
   "source": [
    "!/home/scitech/shared-data/build-local-image.sh"
   ]
  },
  {
   "cell_type": "markdown",
   "metadata": {},
   "source": [
    "## Step 3: Rerun the workflow with this new processor\n",
    "\n",
    "We can now re-run the workflow with this new processor added at the end. The GeoJSON file produced at the end can be visualized directly using the *Folium* library."
   ]
  },
  {
   "cell_type": "code",
   "execution_count": null,
   "metadata": {},
   "outputs": [],
   "source": [
    "from geoedfengine.GeoEDFWorkflow import GeoEDFWorkflow"
   ]
  },
  {
   "cell_type": "code",
   "execution_count": null,
   "metadata": {},
   "outputs": [],
   "source": [
    "workflow = GeoEDFWorkflow('/home/scitech/shared-data/sample-geoedf-wf/mcd15-viz.yml')"
   ]
  },
  {
   "cell_type": "code",
   "execution_count": null,
   "metadata": {},
   "outputs": [],
   "source": [
    "workflow.execute()"
   ]
  },
  {
   "cell_type": "code",
   "execution_count": null,
   "metadata": {},
   "outputs": [],
   "source": [
    "import geopandas as gpd\n",
    "import folium\n",
    "\n",
    "output_dir = '/home/scitech/shared-data/sample-geoedf-wf/1600616244/output'\n",
    "geojson_path = '%s/MCD15A3H.A2002197.h09v07.006.2015149103156.hdf.json' % output_dir\n",
    "geo_df = gpd.GeoDataFrame.from_file(geojson_path)\n",
    "field_name = 'Lai_500m'\n",
    "mcd_df = geo_df.loc[:,[field_name,'geometry']]\n",
    "mcd_df['id'] = mcd_df.index\n",
    "\n",
    "test_map = folium.Map(location=[40,-86],zoom_start=7)\n",
    "\n",
    "test_map.choropleth(geo_data=mcd_df.to_json(),\n",
    "                    data=mcd_df,\n",
    "                    columns=['id',field_name],\n",
    "                    key_on='feature.properties.{}'.format('id'),\n",
    "                    legend_name = field_name,\n",
    "                    fill_color='YlOrRd',\n",
    "                    fill_opacity=0.5,\n",
    "                    line_weight=2)\n",
    "test_map"
   ]
  },
  {
   "cell_type": "code",
   "execution_count": null,
   "metadata": {},
   "outputs": [],
   "source": []
  }
 ],
 "metadata": {
  "kernelspec": {
   "display_name": "Python 3",
   "language": "python",
   "name": "python3"
  },
  "language_info": {
   "codemirror_mode": {
    "name": "ipython",
    "version": 3
   },
   "file_extension": ".py",
   "mimetype": "text/x-python",
   "name": "python",
   "nbconvert_exporter": "python",
   "pygments_lexer": "ipython3",
   "version": "3.6.8"
  }
 },
 "nbformat": 4,
 "nbformat_minor": 4
}
